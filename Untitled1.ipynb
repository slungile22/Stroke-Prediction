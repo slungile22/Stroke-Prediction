{
 "cells": [
  {
   "cell_type": "code",
   "execution_count": 1,
   "id": "7dae1e8a",
   "metadata": {},
   "outputs": [],
   "source": [
    "import warnings \n",
    "warnings.filterwarnings(\"ignore\")\n",
    "\n",
    "import pandas as pd\n",
    "import numpy as np\n",
    "\n",
    "pd.set_option('display.max_columns',None)\n",
    "pd.set_option('display.max_rows',None)\n",
    "\n",
    "import matplotlib.pyplot as plt\n",
    "%matplotlib inline\n",
    "import seaborn as sns\n",
    "\n",
    "from scipy import stats\n",
    "\n",
    "from sklearn.preprocessing import StandardScaler\n",
    "from sklearn.pipeline import Pipeline\n",
    "from sklearn.tree import DecisionTreeRegressor\n",
    "\n",
    "#cross validation\n",
    "from sklearn.model_selection import train_test_split\n",
    "\n",
    "from sklearn import model_selection\n",
    "from sklearn.model_selection import cross_val_score\n",
    "from sklearn.metrics import roc_auc_score,f1_score,recall_score,roc_curve,auc,precision_score\n",
    "from sklearn.metrics import confusion_matrix, ConfusionMatrixDisplay\n",
    "\n",
    "from sklearn.linear_model import LogisticRegression\n",
    "from sklearn.naive_bayes import GaussianNB\n",
    "from sklearn.tree import DecisionTreeClassifier\n",
    "from sklearn.neighbors import KNeighborsClassifier\n",
    "from sklearn.svm import SVC \n",
    "from sklearn.ensemble import RandomForestClassifier,GradientBoostingClassifier,ExtraTreesClassifier\n",
    "\n",
    "#Imbalanced classification techniques\n",
    "from imblearn.over_sampling import RandomOverSampler\n",
    "from imblearn.over_sampling import SMOTE\n",
    "from imblearn.over_sampling import ADASYN\n",
    "from collections import Counter\n",
    "\n",
    "from sklearn.model_selection import GridSearchCV\n",
    "\n",
    "import pickle"
   ]
  },
  {
   "cell_type": "code",
   "execution_count": 2,
   "id": "09ea41fb",
   "metadata": {},
   "outputs": [],
   "source": [
    "df = pd.read_csv(\"healthcare-dataset-stroke-data.csv\")"
   ]
  },
  {
   "cell_type": "code",
   "execution_count": 3,
   "id": "c71cbf2a",
   "metadata": {},
   "outputs": [
    {
     "data": {
      "text/html": [
       "<div>\n",
       "<style scoped>\n",
       "    .dataframe tbody tr th:only-of-type {\n",
       "        vertical-align: middle;\n",
       "    }\n",
       "\n",
       "    .dataframe tbody tr th {\n",
       "        vertical-align: top;\n",
       "    }\n",
       "\n",
       "    .dataframe thead th {\n",
       "        text-align: right;\n",
       "    }\n",
       "</style>\n",
       "<table border=\"1\" class=\"dataframe\">\n",
       "  <thead>\n",
       "    <tr style=\"text-align: right;\">\n",
       "      <th></th>\n",
       "      <th>id</th>\n",
       "      <th>gender</th>\n",
       "      <th>age</th>\n",
       "      <th>hypertension</th>\n",
       "      <th>heart_disease</th>\n",
       "      <th>ever_married</th>\n",
       "      <th>work_type</th>\n",
       "      <th>Residence_type</th>\n",
       "      <th>avg_glucose_level</th>\n",
       "      <th>bmi</th>\n",
       "      <th>smoking_status</th>\n",
       "      <th>stroke</th>\n",
       "    </tr>\n",
       "  </thead>\n",
       "  <tbody>\n",
       "    <tr>\n",
       "      <th>0</th>\n",
       "      <td>9046</td>\n",
       "      <td>Male</td>\n",
       "      <td>67.0</td>\n",
       "      <td>0</td>\n",
       "      <td>1</td>\n",
       "      <td>Yes</td>\n",
       "      <td>Private</td>\n",
       "      <td>Urban</td>\n",
       "      <td>228.69</td>\n",
       "      <td>36.6</td>\n",
       "      <td>formerly smoked</td>\n",
       "      <td>1</td>\n",
       "    </tr>\n",
       "    <tr>\n",
       "      <th>1</th>\n",
       "      <td>51676</td>\n",
       "      <td>Female</td>\n",
       "      <td>61.0</td>\n",
       "      <td>0</td>\n",
       "      <td>0</td>\n",
       "      <td>Yes</td>\n",
       "      <td>Self-employed</td>\n",
       "      <td>Rural</td>\n",
       "      <td>202.21</td>\n",
       "      <td>NaN</td>\n",
       "      <td>never smoked</td>\n",
       "      <td>1</td>\n",
       "    </tr>\n",
       "    <tr>\n",
       "      <th>2</th>\n",
       "      <td>31112</td>\n",
       "      <td>Male</td>\n",
       "      <td>80.0</td>\n",
       "      <td>0</td>\n",
       "      <td>1</td>\n",
       "      <td>Yes</td>\n",
       "      <td>Private</td>\n",
       "      <td>Rural</td>\n",
       "      <td>105.92</td>\n",
       "      <td>32.5</td>\n",
       "      <td>never smoked</td>\n",
       "      <td>1</td>\n",
       "    </tr>\n",
       "    <tr>\n",
       "      <th>3</th>\n",
       "      <td>60182</td>\n",
       "      <td>Female</td>\n",
       "      <td>49.0</td>\n",
       "      <td>0</td>\n",
       "      <td>0</td>\n",
       "      <td>Yes</td>\n",
       "      <td>Private</td>\n",
       "      <td>Urban</td>\n",
       "      <td>171.23</td>\n",
       "      <td>34.4</td>\n",
       "      <td>smokes</td>\n",
       "      <td>1</td>\n",
       "    </tr>\n",
       "    <tr>\n",
       "      <th>4</th>\n",
       "      <td>1665</td>\n",
       "      <td>Female</td>\n",
       "      <td>79.0</td>\n",
       "      <td>1</td>\n",
       "      <td>0</td>\n",
       "      <td>Yes</td>\n",
       "      <td>Self-employed</td>\n",
       "      <td>Rural</td>\n",
       "      <td>174.12</td>\n",
       "      <td>24.0</td>\n",
       "      <td>never smoked</td>\n",
       "      <td>1</td>\n",
       "    </tr>\n",
       "    <tr>\n",
       "      <th>5</th>\n",
       "      <td>56669</td>\n",
       "      <td>Male</td>\n",
       "      <td>81.0</td>\n",
       "      <td>0</td>\n",
       "      <td>0</td>\n",
       "      <td>Yes</td>\n",
       "      <td>Private</td>\n",
       "      <td>Urban</td>\n",
       "      <td>186.21</td>\n",
       "      <td>29.0</td>\n",
       "      <td>formerly smoked</td>\n",
       "      <td>1</td>\n",
       "    </tr>\n",
       "    <tr>\n",
       "      <th>6</th>\n",
       "      <td>53882</td>\n",
       "      <td>Male</td>\n",
       "      <td>74.0</td>\n",
       "      <td>1</td>\n",
       "      <td>1</td>\n",
       "      <td>Yes</td>\n",
       "      <td>Private</td>\n",
       "      <td>Rural</td>\n",
       "      <td>70.09</td>\n",
       "      <td>27.4</td>\n",
       "      <td>never smoked</td>\n",
       "      <td>1</td>\n",
       "    </tr>\n",
       "    <tr>\n",
       "      <th>7</th>\n",
       "      <td>10434</td>\n",
       "      <td>Female</td>\n",
       "      <td>69.0</td>\n",
       "      <td>0</td>\n",
       "      <td>0</td>\n",
       "      <td>No</td>\n",
       "      <td>Private</td>\n",
       "      <td>Urban</td>\n",
       "      <td>94.39</td>\n",
       "      <td>22.8</td>\n",
       "      <td>never smoked</td>\n",
       "      <td>1</td>\n",
       "    </tr>\n",
       "    <tr>\n",
       "      <th>8</th>\n",
       "      <td>27419</td>\n",
       "      <td>Female</td>\n",
       "      <td>59.0</td>\n",
       "      <td>0</td>\n",
       "      <td>0</td>\n",
       "      <td>Yes</td>\n",
       "      <td>Private</td>\n",
       "      <td>Rural</td>\n",
       "      <td>76.15</td>\n",
       "      <td>NaN</td>\n",
       "      <td>Unknown</td>\n",
       "      <td>1</td>\n",
       "    </tr>\n",
       "    <tr>\n",
       "      <th>9</th>\n",
       "      <td>60491</td>\n",
       "      <td>Female</td>\n",
       "      <td>78.0</td>\n",
       "      <td>0</td>\n",
       "      <td>0</td>\n",
       "      <td>Yes</td>\n",
       "      <td>Private</td>\n",
       "      <td>Urban</td>\n",
       "      <td>58.57</td>\n",
       "      <td>24.2</td>\n",
       "      <td>Unknown</td>\n",
       "      <td>1</td>\n",
       "    </tr>\n",
       "  </tbody>\n",
       "</table>\n",
       "</div>"
      ],
      "text/plain": [
       "      id  gender   age  hypertension  heart_disease ever_married  \\\n",
       "0   9046    Male  67.0             0              1          Yes   \n",
       "1  51676  Female  61.0             0              0          Yes   \n",
       "2  31112    Male  80.0             0              1          Yes   \n",
       "3  60182  Female  49.0             0              0          Yes   \n",
       "4   1665  Female  79.0             1              0          Yes   \n",
       "5  56669    Male  81.0             0              0          Yes   \n",
       "6  53882    Male  74.0             1              1          Yes   \n",
       "7  10434  Female  69.0             0              0           No   \n",
       "8  27419  Female  59.0             0              0          Yes   \n",
       "9  60491  Female  78.0             0              0          Yes   \n",
       "\n",
       "       work_type Residence_type  avg_glucose_level   bmi   smoking_status  \\\n",
       "0        Private          Urban             228.69  36.6  formerly smoked   \n",
       "1  Self-employed          Rural             202.21   NaN     never smoked   \n",
       "2        Private          Rural             105.92  32.5     never smoked   \n",
       "3        Private          Urban             171.23  34.4           smokes   \n",
       "4  Self-employed          Rural             174.12  24.0     never smoked   \n",
       "5        Private          Urban             186.21  29.0  formerly smoked   \n",
       "6        Private          Rural              70.09  27.4     never smoked   \n",
       "7        Private          Urban              94.39  22.8     never smoked   \n",
       "8        Private          Rural              76.15   NaN          Unknown   \n",
       "9        Private          Urban              58.57  24.2          Unknown   \n",
       "\n",
       "   stroke  \n",
       "0       1  \n",
       "1       1  \n",
       "2       1  \n",
       "3       1  \n",
       "4       1  \n",
       "5       1  \n",
       "6       1  \n",
       "7       1  \n",
       "8       1  \n",
       "9       1  "
      ]
     },
     "execution_count": 3,
     "metadata": {},
     "output_type": "execute_result"
    }
   ],
   "source": [
    "df.head(10)"
   ]
  },
  {
   "cell_type": "code",
   "execution_count": 4,
   "id": "766d0f2d",
   "metadata": {},
   "outputs": [],
   "source": [
    "#converting categorical features\n",
    "\n",
    "df[\"hypertension\"][df[\"hypertension\"]==0]=\"no\"\n",
    "df[\"hypertension\"][df[\"hypertension\"]==1]=\"yes\"\n",
    "\n",
    "df[\"heart_disease\"][df[\"heart_disease\"]==0]=\"no\"\n",
    "df[\"heart_disease\"][df[\"heart_disease\"]==1]=\"yes\"\n",
    "\n",
    "df[\"smoking_status\"][df[\"smoking_status\"]==\"formerly smoked\"]=\"former\"\n",
    "df[\"smoking_status\"][df[\"smoking_status\"]==\"never smoked\"]=\"never\"\n",
    "df[\"smoking_status\"][df[\"smoking_status\"]==\"smokes\"]=\"yes\"\n",
    "df[\"smoking_status\"][df[\"smoking_status\"]==\"Unknown\"]=\"unknown\"\n",
    "\n",
    "df[\"work_type\"][df[\"work_type\"]==\"Private\"]=\"private\"\n",
    "df[\"work_type\"][df[\"work_type\"]==\"children\"]=\"child\"\n",
    "df[\"work_type\"][df[\"work_type\"]==\"Govt_jov\"]=\"govt_job\"\n",
    "df[\"work_type\"][df[\"work_type\"]==\"Never_worked\"]=\"none\"\n",
    "df[\"work_type\"][df[\"work_type\"]==\"Self-employed\"]=\"self\"\n"
   ]
  },
  {
   "cell_type": "code",
   "execution_count": 5,
   "id": "036eaee5",
   "metadata": {},
   "outputs": [
    {
     "name": "stdout",
     "output_type": "stream",
     "text": [
      "<class 'pandas.core.frame.DataFrame'>\n",
      "RangeIndex: 5110 entries, 0 to 5109\n",
      "Data columns (total 12 columns):\n",
      " #   Column             Non-Null Count  Dtype  \n",
      "---  ------             --------------  -----  \n",
      " 0   id                 5110 non-null   int64  \n",
      " 1   gender             5110 non-null   object \n",
      " 2   age                5110 non-null   float64\n",
      " 3   hypertension       5110 non-null   object \n",
      " 4   heart_disease      5110 non-null   object \n",
      " 5   ever_married       5110 non-null   object \n",
      " 6   work_type          5110 non-null   object \n",
      " 7   Residence_type     5110 non-null   object \n",
      " 8   avg_glucose_level  5110 non-null   float64\n",
      " 9   bmi                4909 non-null   float64\n",
      " 10  smoking_status     5110 non-null   object \n",
      " 11  stroke             5110 non-null   int64  \n",
      "dtypes: float64(3), int64(2), object(7)\n",
      "memory usage: 479.2+ KB\n"
     ]
    }
   ],
   "source": [
    "df.info()"
   ]
  },
  {
   "cell_type": "code",
   "execution_count": 6,
   "id": "008a4f2f",
   "metadata": {},
   "outputs": [
    {
     "data": {
      "text/html": [
       "<div>\n",
       "<style scoped>\n",
       "    .dataframe tbody tr th:only-of-type {\n",
       "        vertical-align: middle;\n",
       "    }\n",
       "\n",
       "    .dataframe tbody tr th {\n",
       "        vertical-align: top;\n",
       "    }\n",
       "\n",
       "    .dataframe thead th {\n",
       "        text-align: right;\n",
       "    }\n",
       "</style>\n",
       "<table border=\"1\" class=\"dataframe\">\n",
       "  <thead>\n",
       "    <tr style=\"text-align: right;\">\n",
       "      <th></th>\n",
       "      <th>id</th>\n",
       "      <th>age</th>\n",
       "      <th>avg_glucose_level</th>\n",
       "      <th>bmi</th>\n",
       "      <th>stroke</th>\n",
       "    </tr>\n",
       "  </thead>\n",
       "  <tbody>\n",
       "    <tr>\n",
       "      <th>count</th>\n",
       "      <td>5110.000000</td>\n",
       "      <td>5110.000000</td>\n",
       "      <td>5110.000000</td>\n",
       "      <td>4909.000000</td>\n",
       "      <td>5110.000000</td>\n",
       "    </tr>\n",
       "    <tr>\n",
       "      <th>mean</th>\n",
       "      <td>36517.829354</td>\n",
       "      <td>43.226614</td>\n",
       "      <td>106.147677</td>\n",
       "      <td>28.893237</td>\n",
       "      <td>0.048728</td>\n",
       "    </tr>\n",
       "    <tr>\n",
       "      <th>std</th>\n",
       "      <td>21161.721625</td>\n",
       "      <td>22.612647</td>\n",
       "      <td>45.283560</td>\n",
       "      <td>7.854067</td>\n",
       "      <td>0.215320</td>\n",
       "    </tr>\n",
       "    <tr>\n",
       "      <th>min</th>\n",
       "      <td>67.000000</td>\n",
       "      <td>0.080000</td>\n",
       "      <td>55.120000</td>\n",
       "      <td>10.300000</td>\n",
       "      <td>0.000000</td>\n",
       "    </tr>\n",
       "    <tr>\n",
       "      <th>25%</th>\n",
       "      <td>17741.250000</td>\n",
       "      <td>25.000000</td>\n",
       "      <td>77.245000</td>\n",
       "      <td>23.500000</td>\n",
       "      <td>0.000000</td>\n",
       "    </tr>\n",
       "    <tr>\n",
       "      <th>50%</th>\n",
       "      <td>36932.000000</td>\n",
       "      <td>45.000000</td>\n",
       "      <td>91.885000</td>\n",
       "      <td>28.100000</td>\n",
       "      <td>0.000000</td>\n",
       "    </tr>\n",
       "    <tr>\n",
       "      <th>75%</th>\n",
       "      <td>54682.000000</td>\n",
       "      <td>61.000000</td>\n",
       "      <td>114.090000</td>\n",
       "      <td>33.100000</td>\n",
       "      <td>0.000000</td>\n",
       "    </tr>\n",
       "    <tr>\n",
       "      <th>max</th>\n",
       "      <td>72940.000000</td>\n",
       "      <td>82.000000</td>\n",
       "      <td>271.740000</td>\n",
       "      <td>97.600000</td>\n",
       "      <td>1.000000</td>\n",
       "    </tr>\n",
       "  </tbody>\n",
       "</table>\n",
       "</div>"
      ],
      "text/plain": [
       "                 id          age  avg_glucose_level          bmi       stroke\n",
       "count   5110.000000  5110.000000        5110.000000  4909.000000  5110.000000\n",
       "mean   36517.829354    43.226614         106.147677    28.893237     0.048728\n",
       "std    21161.721625    22.612647          45.283560     7.854067     0.215320\n",
       "min       67.000000     0.080000          55.120000    10.300000     0.000000\n",
       "25%    17741.250000    25.000000          77.245000    23.500000     0.000000\n",
       "50%    36932.000000    45.000000          91.885000    28.100000     0.000000\n",
       "75%    54682.000000    61.000000         114.090000    33.100000     0.000000\n",
       "max    72940.000000    82.000000         271.740000    97.600000     1.000000"
      ]
     },
     "execution_count": 6,
     "metadata": {},
     "output_type": "execute_result"
    }
   ],
   "source": [
    "df.describe()"
   ]
  },
  {
   "cell_type": "code",
   "execution_count": 7,
   "id": "d9a7509b",
   "metadata": {},
   "outputs": [
    {
     "data": {
      "text/html": [
       "<div>\n",
       "<style scoped>\n",
       "    .dataframe tbody tr th:only-of-type {\n",
       "        vertical-align: middle;\n",
       "    }\n",
       "\n",
       "    .dataframe tbody tr th {\n",
       "        vertical-align: top;\n",
       "    }\n",
       "\n",
       "    .dataframe thead th {\n",
       "        text-align: right;\n",
       "    }\n",
       "</style>\n",
       "<table border=\"1\" class=\"dataframe\">\n",
       "  <thead>\n",
       "    <tr style=\"text-align: right;\">\n",
       "      <th></th>\n",
       "      <th>gender</th>\n",
       "      <th>hypertension</th>\n",
       "      <th>heart_disease</th>\n",
       "      <th>ever_married</th>\n",
       "      <th>work_type</th>\n",
       "      <th>Residence_type</th>\n",
       "      <th>smoking_status</th>\n",
       "    </tr>\n",
       "  </thead>\n",
       "  <tbody>\n",
       "    <tr>\n",
       "      <th>count</th>\n",
       "      <td>5110</td>\n",
       "      <td>5110</td>\n",
       "      <td>5110</td>\n",
       "      <td>5110</td>\n",
       "      <td>5110</td>\n",
       "      <td>5110</td>\n",
       "      <td>5110</td>\n",
       "    </tr>\n",
       "    <tr>\n",
       "      <th>unique</th>\n",
       "      <td>3</td>\n",
       "      <td>2</td>\n",
       "      <td>2</td>\n",
       "      <td>2</td>\n",
       "      <td>5</td>\n",
       "      <td>2</td>\n",
       "      <td>4</td>\n",
       "    </tr>\n",
       "    <tr>\n",
       "      <th>top</th>\n",
       "      <td>Female</td>\n",
       "      <td>no</td>\n",
       "      <td>no</td>\n",
       "      <td>Yes</td>\n",
       "      <td>private</td>\n",
       "      <td>Urban</td>\n",
       "      <td>never</td>\n",
       "    </tr>\n",
       "    <tr>\n",
       "      <th>freq</th>\n",
       "      <td>2994</td>\n",
       "      <td>4612</td>\n",
       "      <td>4834</td>\n",
       "      <td>3353</td>\n",
       "      <td>2925</td>\n",
       "      <td>2596</td>\n",
       "      <td>1892</td>\n",
       "    </tr>\n",
       "  </tbody>\n",
       "</table>\n",
       "</div>"
      ],
      "text/plain": [
       "        gender hypertension heart_disease ever_married work_type  \\\n",
       "count     5110         5110          5110         5110      5110   \n",
       "unique       3            2             2            2         5   \n",
       "top     Female           no            no          Yes   private   \n",
       "freq      2994         4612          4834         3353      2925   \n",
       "\n",
       "       Residence_type smoking_status  \n",
       "count            5110           5110  \n",
       "unique              2              4  \n",
       "top             Urban          never  \n",
       "freq             2596           1892  "
      ]
     },
     "execution_count": 7,
     "metadata": {},
     "output_type": "execute_result"
    }
   ],
   "source": [
    "df.describe(include=\"O\")"
   ]
  },
  {
   "cell_type": "code",
   "execution_count": 8,
   "id": "14d7f5e5",
   "metadata": {},
   "outputs": [
    {
     "data": {
      "text/plain": [
       "id                     0\n",
       "gender                 0\n",
       "age                    0\n",
       "hypertension           0\n",
       "heart_disease          0\n",
       "ever_married           0\n",
       "work_type              0\n",
       "Residence_type         0\n",
       "avg_glucose_level      0\n",
       "bmi                  201\n",
       "smoking_status         0\n",
       "stroke                 0\n",
       "dtype: int64"
      ]
     },
     "execution_count": 8,
     "metadata": {},
     "output_type": "execute_result"
    }
   ],
   "source": [
    "df.isnull().sum()"
   ]
  },
  {
   "cell_type": "code",
   "execution_count": 9,
   "id": "a29685cf",
   "metadata": {},
   "outputs": [
    {
     "name": "stdout",
     "output_type": "stream",
     "text": [
      "Minimum age:  0.08\n",
      "Maximum age:  82.0\n",
      "Avergae age:  43.226614481409\n"
     ]
    }
   ],
   "source": [
    "print(\"Minimum age: \", min(df.age))\n",
    "print(\"Maximum age: \", max(df.age))\n",
    "print(\"Avergae age: \", df.age.mean())"
   ]
  },
  {
   "cell_type": "code",
   "execution_count": 10,
   "id": "5228294b",
   "metadata": {},
   "outputs": [],
   "source": [
    "def age_classifier(value):\n",
    "    a=0\n",
    "    if (value<18):\n",
    "        a=\"child\"\n",
    "    elif(18<=value<35):\n",
    "        a=\"young_adult\"\n",
    "    elif(35<=value<55):\n",
    "        a=\"senior_adult\"\n",
    "    else:\n",
    "        a=\"elder\"\n",
    "    return a\n",
    "\n",
    "df[\"age_range\"]=df[\"age\"].apply(age_classifier)"
   ]
  },
  {
   "cell_type": "code",
   "execution_count": 11,
   "id": "bf2c0e9e",
   "metadata": {},
   "outputs": [
    {
     "data": {
      "text/plain": [
       "elder           1779\n",
       "senior_adult    1486\n",
       "young_adult      989\n",
       "child            856\n",
       "Name: age_range, dtype: int64"
      ]
     },
     "execution_count": 11,
     "metadata": {},
     "output_type": "execute_result"
    }
   ],
   "source": [
    "df[\"age_range\"].value_counts()"
   ]
  },
  {
   "cell_type": "markdown",
   "id": "a665a591",
   "metadata": {},
   "source": [
    "### Exploratory Data Analysis"
   ]
  },
  {
   "cell_type": "markdown",
   "id": "bf763344",
   "metadata": {},
   "source": [
    "###### Distribution of stroke Disease"
   ]
  },
  {
   "cell_type": "code",
   "execution_count": 12,
   "id": "748c76fa",
   "metadata": {},
   "outputs": [
    {
     "data": {
      "image/png": "[encoded data removed]",
      "text/plain": [
       "<Figure size 1008x432 with 2 Axes>"
      ]
     },
     "metadata": {
      "needs_background": "light"
     },
     "output_type": "display_data"
    }
   ],
   "source": [
    "fig,(ax1,ax2)=plt.subplots(nrows=1, ncols=2, sharey=False, figsize=(14,6))\n",
    "\n",
    "ax1=df[\"stroke\"].value_counts().plot.pie(x=\"Stroke disease\", y=\"no. of patients\", autopct=\"%1.0f%%\", \n",
    "                                         labels=[\"Normal\", \"Stroke\"], startangle=60, ax=ax1);\n",
    "\n",
    "ax2=df[\"stroke\"].value_counts().plot(kind=\"barh\", ax=ax2)\n",
    "for i,j in enumerate(df[\"stroke\"].value_counts().values):\n",
    "    ax2.text(.5,i,j,fontsize=12)\n",
    "ax2.set(title=\"No. of stroke disease patients in dataset\")\n",
    "plt.show()"
   ]
  },
  {
   "cell_type": "markdown",
   "id": "f1d22b65",
   "metadata": {},
   "source": [
    "* Our response variable is stroke. It contains two integers 0 and 1 (0 stands for absence of stroke and 1 for presence of stroke disease). \n",
    "* There are 4861 patients who do not suffer from stroke\n",
    "* There are 249 patients who suffering from stroke."
   ]
  },
  {
   "cell_type": "markdown",
   "id": "678d16a6",
   "metadata": {},
   "source": [
    "##### Gender and Age Distribution"
   ]
  },
  {
   "cell_type": "code",
   "execution_count": 13,
   "id": "cb335934",
   "metadata": {},
   "outputs": [
    {
     "data": {
      "image/png": "[encoded data removed]",
      "text/plain": [
       "<Figure size 1296x864 with 2 Axes>"
      ]
     },
     "metadata": {
      "needs_background": "light"
     },
     "output_type": "display_data"
    }
   ],
   "source": [
    "plt.figure(figsize=(18,12))\n",
    "plt.subplot(221)\n",
    "df[\"gender\"].value_counts().plot.pie(autopct = \"%1.0f%%\",colors = sns.color_palette(\"cool\",5),startangle = 60,labels=[\"Female\",\"Male\",\"Other\"],wedgeprops={\"linewidth\":2,\"edgecolor\":\"k\"},shadow =True)\n",
    "plt.title(\"Distribution of Gender\")\n",
    "plt.subplot(222)\n",
    "ax= sns.distplot(df['age'], rug=True)\n",
    "plt.title(\"Age wise distribution\")\n",
    "plt.show()"
   ]
  },
  {
   "cell_type": "markdown",
   "id": "04caaf8f",
   "metadata": {},
   "source": [
    "* Dataset consist of 59% Females, 49% males and 0% Other\n",
    "* Youngest patient is 8 months while oldest patient is 80 years old"
   ]
  },
  {
   "cell_type": "code",
   "execution_count": 14,
   "id": "842cf1c9",
   "metadata": {},
   "outputs": [
    {
     "data": {
      "text/plain": [
       "<matplotlib.axes._subplots.AxesSubplot at 0x253e8f3f708>"
      ]
     },
     "execution_count": 14,
     "metadata": {},
     "output_type": "execute_result"
    },
    {
     "data": {
      "image/png": "[encoded data removed]",
      "text/plain": [
       "<Figure size 432x288 with 1 Axes>"
      ]
     },
     "metadata": {
      "needs_background": "light"
     },
     "output_type": "display_data"
    }
   ],
   "source": [
    "sns.distplot(df[\"bmi\"])"
   ]
  },
  {
   "cell_type": "code",
   "execution_count": 15,
   "id": "458e2f53",
   "metadata": {},
   "outputs": [
    {
     "data": {
      "text/plain": [
       "<matplotlib.axes._subplots.AxesSubplot at 0x253e989b808>"
      ]
     },
     "execution_count": 15,
     "metadata": {},
     "output_type": "execute_result"
    },
    {
     "data": {
      "image/png": "[encoded data removed]",
      "text/plain": [
       "<Figure size 432x288 with 1 Axes>"
      ]
     },
     "metadata": {
      "needs_background": "light"
     },
     "output_type": "display_data"
    }
   ],
   "source": [
    "df.boxplot(column=\"bmi\")"
   ]
  },
  {
   "cell_type": "markdown",
   "id": "68a8469a",
   "metadata": {},
   "source": [
    "* BMI is positively skewed\n",
    "* Some of the patients are have a bmi above average, this is indicated by the outliers"
   ]
  },
  {
   "cell_type": "code",
   "execution_count": 16,
   "id": "e1367631",
   "metadata": {},
   "outputs": [
    {
     "data": {
      "text/plain": [
       "<matplotlib.axes._subplots.AxesSubplot at 0x253e98f5888>"
      ]
     },
     "execution_count": 16,
     "metadata": {},
     "output_type": "execute_result"
    },
    {
     "data": {
      "image/png": "[encoded data removed]",
      "text/plain": [
       "<Figure size 432x288 with 1 Axes>"
      ]
     },
     "metadata": {
      "needs_background": "light"
     },
     "output_type": "display_data"
    }
   ],
   "source": [
    "sns.distplot(df[\"avg_glucose_level\"])"
   ]
  },
  {
   "cell_type": "code",
   "execution_count": 17,
   "id": "afd98c08",
   "metadata": {},
   "outputs": [
    {
     "data": {
      "text/plain": [
       "<matplotlib.axes._subplots.AxesSubplot at 0x253e992e188>"
      ]
     },
     "execution_count": 17,
     "metadata": {},
     "output_type": "execute_result"
    },
    {
     "data": {
      "image/png": "[encoded data removed]",
      "text/plain": [
       "<Figure size 432x288 with 1 Axes>"
      ]
     },
     "metadata": {
      "needs_background": "light"
     },
     "output_type": "display_data"
    }
   ],
   "source": [
    "df.boxplot(column=\"avg_glucose_level\")"
   ]
  },
  {
   "cell_type": "markdown",
   "id": "b17e2864",
   "metadata": {},
   "source": [
    "* Average glucose level is positively skewed with two peaks which indicates that two different mechanisms might be affecting average glucose levels.\n",
    "* Some of the patients glucose level above normal blood sugar levels"
   ]
  },
  {
   "cell_type": "code",
   "execution_count": 18,
   "id": "1fbda7bc",
   "metadata": {},
   "outputs": [],
   "source": [
    "#Creating seperate dataset for normal patients and stroke patients\n",
    "attr_1=df[df[\"stroke\"]==1]\n",
    "attr_0=df[df[\"stroke\"]==0]"
   ]
  },
  {
   "cell_type": "code",
   "execution_count": 19,
   "id": "6d008ceb",
   "metadata": {},
   "outputs": [
    {
     "data": {
      "image/png": "[encoded data removed]",
      "text/plain": [
       "<Figure size 1080x360 with 2 Axes>"
      ]
     },
     "metadata": {
      "needs_background": "light"
     },
     "output_type": "display_data"
    },
    {
     "data": {
      "image/png": "[encoded data removed]",
      "text/plain": [
       "<Figure size 1080x360 with 2 Axes>"
      ]
     },
     "metadata": {
      "needs_background": "light"
     },
     "output_type": "display_data"
    }
   ],
   "source": [
    "#plotting for normal patients\n",
    "fig=plt.figure(figsize=(15,5))\n",
    "ax1=plt.subplot2grid((1,2),(0,0))\n",
    "sns.distplot(attr_0[\"age\"])\n",
    "plt.title(\"Age distribution for normal patients\", fontsize=15, weight=\"bold\")\n",
    "\n",
    "ax1=plt.subplot2grid((1,2),(0,1))\n",
    "sns.countplot(attr_0[\"gender\"], palette=\"cool\")\n",
    "plt.title(\"Gender distribution of normal patients\", fontsize=15, weight=\"bold\")\n",
    "plt.show()\n",
    "\n",
    "#plotting for stroke patients\n",
    "fig=plt.figure(figsize=(15,5))\n",
    "ax1=plt.subplot2grid((1,2),(0,0))\n",
    "sns.distplot(attr_1[\"age\"])\n",
    "plt.title(\"Age distribution of stroke patients\", fontsize=15, weight=\"bold\")\n",
    "\n",
    "ax1=plt.subplot2grid((1,2),(0,1))\n",
    "sns.countplot(attr_1[\"gender\"], palette=\"cool\")\n",
    "plt.title(\"Gender distribution of stroke patients\", fontsize=15, weight=\"bold\")\n",
    "plt.show()"
   ]
  },
  {
   "cell_type": "code",
   "execution_count": 20,
   "id": "0f6c823d",
   "metadata": {},
   "outputs": [
    {
     "data": {
      "image/png": "[encoded data removed]",
      "text/plain": [
       "<Figure size 1080x360 with 2 Axes>"
      ]
     },
     "metadata": {
      "needs_background": "light"
     },
     "output_type": "display_data"
    }
   ],
   "source": [
    "#plotting normal patients\n",
    "fig=plt.figure(figsize=(15,5))\n",
    "ax1=plt.subplot2grid((1,2),(0,0))\n",
    "sns.countplot(attr_0[\"age_range\"])\n",
    "plt.title(\"Age range of Normal Patients\", fontsize=15, weight=\"bold\")\n",
    "\n",
    "#plotting heart patients\n",
    "ax1=plt.subplot2grid((1,2),(0,1))\n",
    "sns.countplot(attr_1[\"age_range\"],palette=\"viridis\")\n",
    "plt.title(\"Age of stroke patients\", fontsize=15, weight=\"bold\")\n",
    "plt.show()"
   ]
  },
  {
   "cell_type": "markdown",
   "id": "0759353c",
   "metadata": {},
   "source": [
    "* A majority of stroke patients are female.\n",
    "* People who are older than 55 are more susceptible to suffer from stroke\n",
    "* As age increase so does the number of stroke patients i.e. age is an important factor"
   ]
  },
  {
   "cell_type": "code",
   "execution_count": 21,
   "id": "9a568045",
   "metadata": {},
   "outputs": [
    {
     "data": {
      "text/plain": [
       "<matplotlib.legend.Legend at 0x253e9b82ec8>"
      ]
     },
     "execution_count": 21,
     "metadata": {},
     "output_type": "execute_result"
    },
    {
     "data": {
      "image/png": "[encoded data removed]",
      "text/plain": [
       "<Figure size 432x288 with 1 Axes>"
      ]
     },
     "metadata": {
      "needs_background": "light"
     },
     "output_type": "display_data"
    }
   ],
   "source": [
    "fig=plt.figure(figsize=(6,4))\n",
    "ax=sns.kdeplot(df.avg_glucose_level[df[\"stroke\"]==0],\n",
    "              color=\"gray\",\n",
    "              shade=True,\n",
    "              label=\"Normal Patients\")\n",
    "ax=sns.kdeplot(df.avg_glucose_level[df[\"stroke\"]==1],\n",
    "              color=\"red\",\n",
    "              shade=True,\n",
    "              label=\"Stroke Patients\")\n",
    "plt.title(\"Average glucose levels distribution for normal and stroke patients\", fontsize=15,pad=20)\n",
    "plt.ylabel(\"Frequency ofstroke patients\", fontsize=10, labelpad=10)\n",
    "plt.xlabel(\"Average glucose level\", fontsize=10, labelpad=10)\n",
    "plt.legend()"
   ]
  },
  {
   "cell_type": "code",
   "execution_count": 22,
   "id": "0dfbff3d",
   "metadata": {},
   "outputs": [
    {
     "data": {
      "text/plain": [
       "<matplotlib.axes._subplots.AxesSubplot at 0x253ea2b1708>"
      ]
     },
     "execution_count": 22,
     "metadata": {},
     "output_type": "execute_result"
    },
    {
     "data": {
      "image/png": "[encoded data removed]",
      "text/plain": [
       "<Figure size 432x288 with 1 Axes>"
      ]
     },
     "metadata": {
      "needs_background": "light"
     },
     "output_type": "display_data"
    }
   ],
   "source": [
    "sns.boxplot(data=attr_1, x=\"age_range\",y=\"avg_glucose_level\",)"
   ]
  },
  {
   "cell_type": "code",
   "execution_count": 23,
   "id": "be8a4c46",
   "metadata": {},
   "outputs": [
    {
     "data": {
      "text/plain": [
       "<matplotlib.legend.Legend at 0x253e9e8d508>"
      ]
     },
     "execution_count": 23,
     "metadata": {},
     "output_type": "execute_result"
    },
    {
     "data": {
      "image/png": "[encoded data removed]",
      "text/plain": [
       "<Figure size 432x288 with 1 Axes>"
      ]
     },
     "metadata": {
      "needs_background": "light"
     },
     "output_type": "display_data"
    }
   ],
   "source": [
    "fig=plt.figure(figsize=(6,4))\n",
    "ax=sns.kdeplot(df.bmi[df[\"stroke\"]==0],\n",
    "              color=\"gray\",\n",
    "              shade=True,\n",
    "              label=\"Normal Patients\")\n",
    "ax=sns.kdeplot(df.bmi[df[\"stroke\"]==1],\n",
    "              color=\"red\",\n",
    "              shade=True,\n",
    "              label=\"Stroke Patients\")\n",
    "plt.title(\"Body mass index distribution for normal and stroke patients\", fontsize=15,pad=20)\n",
    "plt.ylabel(\"Frequency ofstroke patients\", fontsize=10, labelpad=10)\n",
    "plt.xlabel(\"Body mass index\", fontsize=10, labelpad=10)\n",
    "plt.legend()"
   ]
  },
  {
   "cell_type": "code",
   "execution_count": 24,
   "id": "6b5abfcb",
   "metadata": {},
   "outputs": [
    {
     "data": {
      "text/plain": [
       "Text(0.5, 1.0, 'Distribution of work type for stroke patient')"
      ]
     },
     "execution_count": 24,
     "metadata": {},
     "output_type": "execute_result"
    },
    {
     "data": {
      "image/png": "[encoded data removed]",
      "text/plain": [
       "<Figure size 1080x360 with 2 Axes>"
      ]
     },
     "metadata": {
      "needs_background": "light"
     },
     "output_type": "display_data"
    }
   ],
   "source": [
    "#plotting for normal patients\n",
    "fig=plt.figure(figsize=(15,5))\n",
    "ax1=plt.subplot2grid((1,2),(0,0))\n",
    "sns.countplot(attr_0[\"work_type\"])\n",
    "plt.title(\"Distribution of work type for normal patient\", fontsize=15, weight=\"bold\")\n",
    "\n",
    "#ploting for stroke patients\n",
    "ax1=plt.subplot2grid((1,2),(0,1))\n",
    "sns.countplot(attr_1[\"work_type\"])\n",
    "plt.title(\"Distribution of work type for stroke patient\", fontsize=15, weight=\"bold\")"
   ]
  },
  {
   "cell_type": "markdown",
   "id": "d5fc097a",
   "metadata": {},
   "source": [
    "* Patients working stressful environment i.e.private companies and self-employed are more likely to have stroke. "
   ]
  },
  {
   "cell_type": "code",
   "execution_count": 25,
   "id": "b1967cb6",
   "metadata": {},
   "outputs": [],
   "source": [
    "DT_bmi_pipe = Pipeline( steps=[ \n",
    "                               ('scale',StandardScaler()),\n",
    "                               ('lr',DecisionTreeRegressor(random_state=42))\n",
    "                              ])\n",
    "X = df[['age','gender','bmi']].copy()\n",
    "X.gender = X.gender.replace({'Male':0,'Female':1,'Other':-1}).astype(np.uint8)\n",
    "\n",
    "Missing = X[X.bmi.isna()]\n",
    "X = X[~X.bmi.isna()]\n",
    "Y = X.pop('bmi')\n",
    "DT_bmi_pipe.fit(X,Y)\n",
    "predicted_bmi = pd.Series(DT_bmi_pipe.predict(Missing[['age','gender']]),index=Missing.index)\n",
    "df.loc[Missing.index,'bmi'] = predicted_bmi"
   ]
  },
  {
   "cell_type": "code",
   "execution_count": 26,
   "id": "d3b7b469",
   "metadata": {},
   "outputs": [],
   "source": [
    "df.drop([\"id\",\"age_range\"], axis=1, inplace=True)"
   ]
  },
  {
   "cell_type": "code",
   "execution_count": 27,
   "id": "c78a6cbb",
   "metadata": {},
   "outputs": [],
   "source": [
    "df=pd.get_dummies(data=df, columns=[\"gender\",\"hypertension\",\"heart_disease\",\"ever_married\",\"work_type\",\"Residence_type\",\n",
    "                           \"smoking_status\"], prefix=[\"gender\",\"hyper\",\"heart\",\"married\",\"worked\",\"res\",\"smoke\"], drop_first=True)"
   ]
  },
  {
   "cell_type": "code",
   "execution_count": 28,
   "id": "d3bafbfe",
   "metadata": {},
   "outputs": [],
   "source": [
    "X=df.drop([\"stroke\"], axis=1)\n",
    "y=df[\"stroke\"]"
   ]
  },
  {
   "cell_type": "code",
   "execution_count": 29,
   "id": "893a849a",
   "metadata": {},
   "outputs": [
    {
     "data": {
      "text/html": [
       "<div>\n",
       "<style scoped>\n",
       "    .dataframe tbody tr th:only-of-type {\n",
       "        vertical-align: middle;\n",
       "    }\n",
       "\n",
       "    .dataframe tbody tr th {\n",
       "        vertical-align: top;\n",
       "    }\n",
       "\n",
       "    .dataframe thead th {\n",
       "        text-align: right;\n",
       "    }\n",
       "</style>\n",
       "<table border=\"1\" class=\"dataframe\">\n",
       "  <thead>\n",
       "    <tr style=\"text-align: right;\">\n",
       "      <th></th>\n",
       "      <th>age</th>\n",
       "      <th>avg_glucose_level</th>\n",
       "      <th>bmi</th>\n",
       "      <th>gender_Male</th>\n",
       "      <th>gender_Other</th>\n",
       "      <th>hyper_yes</th>\n",
       "      <th>heart_yes</th>\n",
       "      <th>married_Yes</th>\n",
       "      <th>worked_child</th>\n",
       "      <th>worked_none</th>\n",
       "      <th>worked_private</th>\n",
       "      <th>worked_self</th>\n",
       "      <th>res_Urban</th>\n",
       "      <th>smoke_never</th>\n",
       "      <th>smoke_unknown</th>\n",
       "      <th>smoke_yes</th>\n",
       "    </tr>\n",
       "  </thead>\n",
       "  <tbody>\n",
       "    <tr>\n",
       "      <th>0</th>\n",
       "      <td>67.0</td>\n",
       "      <td>228.69</td>\n",
       "      <td>36.600000</td>\n",
       "      <td>1</td>\n",
       "      <td>0</td>\n",
       "      <td>0</td>\n",
       "      <td>1</td>\n",
       "      <td>1</td>\n",
       "      <td>0</td>\n",
       "      <td>0</td>\n",
       "      <td>1</td>\n",
       "      <td>0</td>\n",
       "      <td>1</td>\n",
       "      <td>0</td>\n",
       "      <td>0</td>\n",
       "      <td>0</td>\n",
       "    </tr>\n",
       "    <tr>\n",
       "      <th>1</th>\n",
       "      <td>61.0</td>\n",
       "      <td>202.21</td>\n",
       "      <td>29.879487</td>\n",
       "      <td>0</td>\n",
       "      <td>0</td>\n",
       "      <td>0</td>\n",
       "      <td>0</td>\n",
       "      <td>1</td>\n",
       "      <td>0</td>\n",
       "      <td>0</td>\n",
       "      <td>0</td>\n",
       "      <td>1</td>\n",
       "      <td>0</td>\n",
       "      <td>1</td>\n",
       "      <td>0</td>\n",
       "      <td>0</td>\n",
       "    </tr>\n",
       "    <tr>\n",
       "      <th>2</th>\n",
       "      <td>80.0</td>\n",
       "      <td>105.92</td>\n",
       "      <td>32.500000</td>\n",
       "      <td>1</td>\n",
       "      <td>0</td>\n",
       "      <td>0</td>\n",
       "      <td>1</td>\n",
       "      <td>1</td>\n",
       "      <td>0</td>\n",
       "      <td>0</td>\n",
       "      <td>1</td>\n",
       "      <td>0</td>\n",
       "      <td>0</td>\n",
       "      <td>1</td>\n",
       "      <td>0</td>\n",
       "      <td>0</td>\n",
       "    </tr>\n",
       "    <tr>\n",
       "      <th>3</th>\n",
       "      <td>49.0</td>\n",
       "      <td>171.23</td>\n",
       "      <td>34.400000</td>\n",
       "      <td>0</td>\n",
       "      <td>0</td>\n",
       "      <td>0</td>\n",
       "      <td>0</td>\n",
       "      <td>1</td>\n",
       "      <td>0</td>\n",
       "      <td>0</td>\n",
       "      <td>1</td>\n",
       "      <td>0</td>\n",
       "      <td>1</td>\n",
       "      <td>0</td>\n",
       "      <td>0</td>\n",
       "      <td>1</td>\n",
       "    </tr>\n",
       "    <tr>\n",
       "      <th>4</th>\n",
       "      <td>79.0</td>\n",
       "      <td>174.12</td>\n",
       "      <td>24.000000</td>\n",
       "      <td>0</td>\n",
       "      <td>0</td>\n",
       "      <td>1</td>\n",
       "      <td>0</td>\n",
       "      <td>1</td>\n",
       "      <td>0</td>\n",
       "      <td>0</td>\n",
       "      <td>0</td>\n",
       "      <td>1</td>\n",
       "      <td>0</td>\n",
       "      <td>1</td>\n",
       "      <td>0</td>\n",
       "      <td>0</td>\n",
       "    </tr>\n",
       "  </tbody>\n",
       "</table>\n",
       "</div>"
      ],
      "text/plain": [
       "    age  avg_glucose_level        bmi  gender_Male  gender_Other  hyper_yes  \\\n",
       "0  67.0             228.69  36.600000            1             0          0   \n",
       "1  61.0             202.21  29.879487            0             0          0   \n",
       "2  80.0             105.92  32.500000            1             0          0   \n",
       "3  49.0             171.23  34.400000            0             0          0   \n",
       "4  79.0             174.12  24.000000            0             0          1   \n",
       "\n",
       "   heart_yes  married_Yes  worked_child  worked_none  worked_private  \\\n",
       "0          1            1             0            0               1   \n",
       "1          0            1             0            0               0   \n",
       "2          1            1             0            0               1   \n",
       "3          0            1             0            0               1   \n",
       "4          0            1             0            0               0   \n",
       "\n",
       "   worked_self  res_Urban  smoke_never  smoke_unknown  smoke_yes  \n",
       "0            0          1            0              0          0  \n",
       "1            1          0            1              0          0  \n",
       "2            0          0            1              0          0  \n",
       "3            0          1            0              0          1  \n",
       "4            1          0            1              0          0  "
      ]
     },
     "execution_count": 29,
     "metadata": {},
     "output_type": "execute_result"
    }
   ],
   "source": [
    "X.head()"
   ]
  },
  {
   "cell_type": "code",
   "execution_count": 30,
   "id": "8f901cde",
   "metadata": {},
   "outputs": [],
   "source": [
    "X_train, X_test, y_train, y_test= train_test_split(X,y,test_size=0.2,random_state=22)"
   ]
  },
  {
   "cell_type": "code",
   "execution_count": 31,
   "id": "6a102b60",
   "metadata": {},
   "outputs": [
    {
     "name": "stdout",
     "output_type": "stream",
     "text": [
      "Number of observations before randomoversample Counter({0: 3894, 1: 194})\n",
      "Number of observations before randomoversample Counter({0: 3894, 1: 3894})\n"
     ]
    }
   ],
   "source": [
    "smote=SMOTE()\n",
    "x_train_smote, y_train_smote=smote.fit_resample(X_train, y_train)\n",
    "print(\"Number of observations before randomoversample %s\" % Counter(y_train))\n",
    "print(\"Number of observations before randomoversample %s\" % Counter(y_train_smote))"
   ]
  },
  {
   "cell_type": "code",
   "execution_count": 32,
   "id": "3b973104",
   "metadata": {},
   "outputs": [],
   "source": [
    "scaler=StandardScaler()\n",
    "x_train_smote[[\"age\",\"avg_glucose_level\",\"bmi\"]]=scaler.fit_transform(x_train_smote[[\"age\",\"avg_glucose_level\",\"bmi\"]])\n",
    "#X_test[[\"age\",\"avg_glucose_level\",\"bmi\"]]=scaler.transform(X_test[[\"age\",\"avg_glucose_level\",\"bmi\"]])"
   ]
  },
  {
   "cell_type": "code",
   "execution_count": 33,
   "id": "88b2d1d9",
   "metadata": {},
   "outputs": [],
   "source": [
    "def GetBasedModel():\n",
    "    basedModels=[]\n",
    "    basedModels.append(('LR'   , LogisticRegression()))\n",
    "    basedModels.append((\"NaiveBayes\", GaussianNB()))\n",
    "    basedModels.append(('KNN'  , KNeighborsClassifier()))\n",
    "    basedModels.append(('CART' , DecisionTreeClassifier()))\n",
    "    basedModels.append(('SVM'  , SVC()))\n",
    "    basedModels.append(('RF'   , RandomForestClassifier()))\n",
    "    basedModels.append(('ET'   , ExtraTreesClassifier()))\n",
    "    \n",
    "    return basedModels\n",
    "\n",
    "# function for performing 10-fold cross validation of all the baseline models\n",
    "def BasedLine2(x_train_smote,y_train_smote,models):\n",
    "    # Test options and evaluation metric\n",
    "    num_folds = 10\n",
    "    scoring = 'f1'\n",
    "    results = []\n",
    "    names = []\n",
    "    for name, model in models:\n",
    "        kfold = model_selection.KFold(n_splits=10)\n",
    "        cv_results = model_selection.cross_val_score(model,x_train_smote, y_train_smote, cv=kfold, scoring=scoring)\n",
    "        results.append(cv_results)\n",
    "        names.append(name)\n",
    "        msg = \"%s: %f (%f)\" % (name, cv_results.mean(), cv_results.std())\n",
    "        print(msg)\n",
    "         \n",
    "        \n",
    "    return results,msg"
   ]
  },
  {
   "cell_type": "code",
   "execution_count": 34,
   "id": "465e7ab1",
   "metadata": {},
   "outputs": [
    {
     "name": "stdout",
     "output_type": "stream",
     "text": [
      "LR: 0.567662 (0.371315)\n",
      "NaiveBayes: 0.542155 (0.436245)\n",
      "KNN: 0.643249 (0.342571)\n",
      "CART: 0.627684 (0.346774)\n",
      "SVM: 0.603789 (0.362782)\n",
      "RF: 0.682954 (0.310391)\n",
      "ET: 0.662257 (0.331852)\n"
     ]
    }
   ],
   "source": [
    "models = GetBasedModel()\n",
    "names,results = BasedLine2(x_train_smote,y_train_smote,models)"
   ]
  },
  {
   "cell_type": "code",
   "execution_count": 35,
   "id": "d70cea52",
   "metadata": {},
   "outputs": [],
   "source": [
    "X_test[[\"age\",\"avg_glucose_level\",\"bmi\"]]=scaler.transform(X_test[[\"age\",\"avg_glucose_level\",\"bmi\"]])"
   ]
  },
  {
   "cell_type": "code",
   "execution_count": 36,
   "id": "3075444e",
   "metadata": {},
   "outputs": [],
   "source": [
    "# Top 3 best performing models\n",
    "rf=RandomForestClassifier()\n",
    "rf.fit(x_train_smote,y_train_smote)\n",
    "y_pred_rf=rf.predict(X_test)\n",
    "\n",
    "et=ExtraTreesClassifier()\n",
    "et.fit(x_train_smote,y_train_smote)\n",
    "y_pred_et=et.predict(X_test)\n",
    "\n",
    "knn=KNeighborsClassifier()\n",
    "knn.fit(x_train_smote,y_train_smote)\n",
    "y_pred_knn=knn.predict(X_test)"
   ]
  },
  {
   "cell_type": "markdown",
   "id": "c942d3e1",
   "metadata": {},
   "source": [
    "#### Model Evaluation"
   ]
  },
  {
   "cell_type": "code",
   "execution_count": 37,
   "id": "ad95b9ec",
   "metadata": {},
   "outputs": [
    {
     "data": {
      "text/html": [
       "<div>\n",
       "<style scoped>\n",
       "    .dataframe tbody tr th:only-of-type {\n",
       "        vertical-align: middle;\n",
       "    }\n",
       "\n",
       "    .dataframe tbody tr th {\n",
       "        vertical-align: top;\n",
       "    }\n",
       "\n",
       "    .dataframe thead th {\n",
       "        text-align: right;\n",
       "    }\n",
       "</style>\n",
       "<table border=\"1\" class=\"dataframe\">\n",
       "  <thead>\n",
       "    <tr style=\"text-align: right;\">\n",
       "      <th></th>\n",
       "      <th>Model</th>\n",
       "      <th>Precision</th>\n",
       "      <th>Recall</th>\n",
       "      <th>F1 Score</th>\n",
       "      <th>ROC</th>\n",
       "    </tr>\n",
       "  </thead>\n",
       "  <tbody>\n",
       "    <tr>\n",
       "      <th>0</th>\n",
       "      <td>Random Forest</td>\n",
       "      <td>0.15873</td>\n",
       "      <td>0.181818</td>\n",
       "      <td>0.169492</td>\n",
       "      <td>0.563505</td>\n",
       "    </tr>\n",
       "  </tbody>\n",
       "</table>\n",
       "</div>"
      ],
      "text/plain": [
       "           Model  Precision    Recall  F1 Score       ROC\n",
       "0  Random Forest    0.15873  0.181818  0.169492  0.563505"
      ]
     },
     "execution_count": 37,
     "metadata": {},
     "output_type": "execute_result"
    },
    {
     "data": {
      "image/png": "[encoded data removed]",
      "text/plain": [
       "<Figure size 432x288 with 2 Axes>"
      ]
     },
     "metadata": {
      "needs_background": "light"
     },
     "output_type": "display_data"
    }
   ],
   "source": [
    "CM=confusion_matrix(y_test, y_pred_rf, labels=rf.classes_)\n",
    "disp = ConfusionMatrixDisplay(confusion_matrix=CM, display_labels=rf.classes_)\n",
    "disp.plot()\n",
    "\n",
    "TN = CM[0][0]\n",
    "FN = CM[1][0]\n",
    "TP = CM[1][1]\n",
    "FP = CM[0][1]\n",
    "roc=roc_auc_score(y_test, y_pred_rf)\n",
    "prec = precision_score(y_test, y_pred_rf)\n",
    "rec = recall_score(y_test, y_pred_rf)\n",
    "f1 = f1_score(y_test, y_pred_rf)\n",
    "\n",
    "model_results =pd.DataFrame([['Random Forest',prec,rec,f1,roc]],\n",
    "               columns = ['Model','Precision', 'Recall','F1 Score','ROC'])\n",
    "model_results"
   ]
  },
  {
   "cell_type": "code",
   "execution_count": 38,
   "id": "868e903d",
   "metadata": {},
   "outputs": [],
   "source": [
    "data={\n",
    "        \"Extra Trees\": y_pred_et,\n",
    "        \"KNeighborsClassifier\": y_pred_knn\n",
    "}\n",
    "\n",
    "models=pd.DataFrame(data)\n",
    "\n",
    "for column in models:\n",
    "    CM=confusion_matrix(y_test, models[column])\n",
    "    \n",
    "    TN=CM[0][0]\n",
    "    FN=CM[1][0]\n",
    "    TP=CM[1][1]\n",
    "    FP=CM[0][1]\n",
    "    roc=roc_auc_score(y_test, models[column])\n",
    "    prec = precision_score(y_test, models[column])\n",
    "    rec = recall_score(y_test, models[column])\n",
    "    f1 = f1_score(y_test, models[column])\n",
    "    results =pd.DataFrame([[column,prec,rec,f1,roc]],\n",
    "               columns = ['Model','Precision','Recall','F1 Score','ROC'])\n",
    "    model_results = model_results.append(results, ignore_index = True)\n",
    "   "
   ]
  },
  {
   "cell_type": "markdown",
   "id": "689211e1",
   "metadata": {},
   "source": [
    "##### SMOTE"
   ]
  },
  {
   "cell_type": "code",
   "execution_count": 39,
   "id": "e1371254",
   "metadata": {},
   "outputs": [
    {
     "data": {
      "text/html": [
       "<div>\n",
       "<style scoped>\n",
       "    .dataframe tbody tr th:only-of-type {\n",
       "        vertical-align: middle;\n",
       "    }\n",
       "\n",
       "    .dataframe tbody tr th {\n",
       "        vertical-align: top;\n",
       "    }\n",
       "\n",
       "    .dataframe thead th {\n",
       "        text-align: right;\n",
       "    }\n",
       "</style>\n",
       "<table border=\"1\" class=\"dataframe\">\n",
       "  <thead>\n",
       "    <tr style=\"text-align: right;\">\n",
       "      <th></th>\n",
       "      <th>Model</th>\n",
       "      <th>Precision</th>\n",
       "      <th>Recall</th>\n",
       "      <th>F1 Score</th>\n",
       "      <th>ROC</th>\n",
       "    </tr>\n",
       "  </thead>\n",
       "  <tbody>\n",
       "    <tr>\n",
       "      <th>0</th>\n",
       "      <td>Random Forest</td>\n",
       "      <td>0.158730</td>\n",
       "      <td>0.181818</td>\n",
       "      <td>0.169492</td>\n",
       "      <td>0.563505</td>\n",
       "    </tr>\n",
       "    <tr>\n",
       "      <th>1</th>\n",
       "      <td>Extra Trees</td>\n",
       "      <td>0.154930</td>\n",
       "      <td>0.200000</td>\n",
       "      <td>0.174603</td>\n",
       "      <td>0.568976</td>\n",
       "    </tr>\n",
       "    <tr>\n",
       "      <th>2</th>\n",
       "      <td>KNeighborsClassifier</td>\n",
       "      <td>0.124138</td>\n",
       "      <td>0.327273</td>\n",
       "      <td>0.180000</td>\n",
       "      <td>0.597969</td>\n",
       "    </tr>\n",
       "  </tbody>\n",
       "</table>\n",
       "</div>"
      ],
      "text/plain": [
       "                  Model  Precision    Recall  F1 Score       ROC\n",
       "0         Random Forest   0.158730  0.181818  0.169492  0.563505\n",
       "1           Extra Trees   0.154930  0.200000  0.174603  0.568976\n",
       "2  KNeighborsClassifier   0.124138  0.327273  0.180000  0.597969"
      ]
     },
     "execution_count": 39,
     "metadata": {},
     "output_type": "execute_result"
    }
   ],
   "source": [
    "model_results"
   ]
  },
  {
   "cell_type": "markdown",
   "id": "0402c395",
   "metadata": {},
   "source": [
    "##### Fine-Tunning Our Models"
   ]
  },
  {
   "cell_type": "code",
   "execution_count": 40,
   "id": "d88e01e2",
   "metadata": {},
   "outputs": [
    {
     "data": {
      "text/plain": [
       "GridSearchCV(cv=10, estimator=RandomForestClassifier(),\n",
       "             param_grid=[{'max_features': [2, 4, 6, 8],\n",
       "                          'n_estimators': [3, 10, 30, 50, 70, 100, 125]},\n",
       "                         {'bootstrap': [False, True], 'max_features': [2, 3, 4],\n",
       "                          'n_estimators': [3, 10]}])"
      ]
     },
     "execution_count": 40,
     "metadata": {},
     "output_type": "execute_result"
    }
   ],
   "source": [
    "param_grid=[\n",
    "    {\"n_estimators\":[3,10,30,50,70,100,125], \"max_features\":[2,4,6,8]},\n",
    "    {\"bootstrap\":[False,True], \"n_estimators\":[3,10], \"max_features\":[2,3,4]}\n",
    "]\n",
    "\n",
    "rf=RandomForestClassifier()\n",
    "\n",
    "grid_search=GridSearchCV(rf, param_grid, cv=10)\n",
    "grid_search.fit(x_train_smote,y_train_smote)"
   ]
  },
  {
   "cell_type": "code",
   "execution_count": 41,
   "id": "97a3aeaf",
   "metadata": {},
   "outputs": [
    {
     "data": {
      "text/plain": [
       "{'bootstrap': False, 'max_features': 4, 'n_estimators': 10}"
      ]
     },
     "execution_count": 41,
     "metadata": {},
     "output_type": "execute_result"
    }
   ],
   "source": [
    "grid_search.best_params_"
   ]
  },
  {
   "cell_type": "code",
   "execution_count": 42,
   "id": "014ec878",
   "metadata": {},
   "outputs": [],
   "source": [
    "#Listing hyperparamters that we want to tune\n",
    "#leaf_size=list(range(1,50))\n",
    "#n_neighbors=list(range(1,30))\n",
    "#p=[1,2]\n",
    "\n",
    "#converting to dictionary\n",
    "#hyperparameters = dict(leaf_size=leaf_size, n_neighbors=n_neighbors, p=p)\n",
    "\n",
    "#knn=KNeighborsClassifier()\n",
    "\n",
    "#grid_search=GridSearchCV(knn, hyperparameters)\n",
    "#grid_search.fit(x_train_smote,y_train_smote)"
   ]
  },
  {
   "cell_type": "code",
   "execution_count": 43,
   "id": "69ef8188",
   "metadata": {},
   "outputs": [],
   "source": [
    "#grid_search.best_params_"
   ]
  },
  {
   "cell_type": "code",
   "execution_count": 44,
   "id": "e6f9495b",
   "metadata": {},
   "outputs": [],
   "source": [
    "rf=RandomForestClassifier(max_features=4, n_estimators=30)\n",
    "rf.fit(x_train_smote,y_train_smote)\n",
    "y_pred_rf=rf.predict(X_test)\n",
    "\n",
    "#knn=KNeighborsClassifier(leaf_size=1, n_neighbors=2, p=1)\n",
    "#knn.fit(x_train_smote,y_train_smote)\n",
    "#y_pred_knn=knn.predict(X_test)"
   ]
  },
  {
   "cell_type": "code",
   "execution_count": 45,
   "id": "860cc8e3",
   "metadata": {},
   "outputs": [
    {
     "data": {
      "text/html": [
       "<div>\n",
       "<style scoped>\n",
       "    .dataframe tbody tr th:only-of-type {\n",
       "        vertical-align: middle;\n",
       "    }\n",
       "\n",
       "    .dataframe tbody tr th {\n",
       "        vertical-align: top;\n",
       "    }\n",
       "\n",
       "    .dataframe thead th {\n",
       "        text-align: right;\n",
       "    }\n",
       "</style>\n",
       "<table border=\"1\" class=\"dataframe\">\n",
       "  <thead>\n",
       "    <tr style=\"text-align: right;\">\n",
       "      <th></th>\n",
       "      <th>Model</th>\n",
       "      <th>Precision</th>\n",
       "      <th>Recall</th>\n",
       "      <th>F1 Score</th>\n",
       "      <th>ROC</th>\n",
       "    </tr>\n",
       "  </thead>\n",
       "  <tbody>\n",
       "    <tr>\n",
       "      <th>0</th>\n",
       "      <td>Random Forest</td>\n",
       "      <td>0.140625</td>\n",
       "      <td>0.163636</td>\n",
       "      <td>0.151261</td>\n",
       "      <td>0.55338</td>\n",
       "    </tr>\n",
       "  </tbody>\n",
       "</table>\n",
       "</div>"
      ],
      "text/plain": [
       "           Model  Precision    Recall  F1 Score      ROC\n",
       "0  Random Forest   0.140625  0.163636  0.151261  0.55338"
      ]
     },
     "execution_count": 45,
     "metadata": {},
     "output_type": "execute_result"
    },
    {
     "data": {
      "image/png": "[encoded data removed]",
      "text/plain": [
       "<Figure size 432x288 with 2 Axes>"
      ]
     },
     "metadata": {
      "needs_background": "light"
     },
     "output_type": "display_data"
    }
   ],
   "source": [
    "CM=confusion_matrix(y_test, y_pred_rf, labels=rf.classes_)\n",
    "disp = ConfusionMatrixDisplay(confusion_matrix=CM, display_labels=rf.classes_)\n",
    "disp.plot()\n",
    "\n",
    "TN = CM[0][0]\n",
    "FN = CM[1][0]\n",
    "TP = CM[1][1]\n",
    "FP = CM[0][1]\n",
    "roc=roc_auc_score(y_test, y_pred_rf)\n",
    "prec = precision_score(y_test, y_pred_rf)\n",
    "rec = recall_score(y_test, y_pred_rf)\n",
    "f1 = f1_score(y_test, y_pred_rf)\n",
    "\n",
    "model_results =pd.DataFrame([['Random Forest',prec,rec,f1,roc]],\n",
    "               columns = ['Model','Precision', 'Recall','F1 Score','ROC'])\n",
    "model_results"
   ]
  },
  {
   "cell_type": "code",
   "execution_count": 46,
   "id": "407fda00",
   "metadata": {},
   "outputs": [],
   "source": [
    "#CM=confusion_matrix(y_test, y_pred_knn, labels=knn.classes_)\n",
    "#disp = ConfusionMatrixDisplay(confusion_matrix=CM, display_labels=knn.classes_)\n",
    "#disp.plot()\n",
    "\n",
    "#TN = CM[0][0]\n",
    "#FN = CM[1][0]\n",
    "#TP = CM[1][1]\n",
    "#FP = CM[0][1]\n",
    "#roc=roc_auc_score(y_test, y_pred_knn)\n",
    "#prec = precision_score(y_test, y_pred_knn)\n",
    "#rec = recall_score(y_test, y_pred_knn)\n",
    "#f1 = f1_score(y_test, y_pred_knn)\n",
    "\n",
    "#model_results =pd.DataFrame([['KNN',prec,rec,f1,roc]],columns = ['Model','Precision', 'Recall','F1 Score','ROC'])\n",
    "#model_results"
   ]
  },
  {
   "cell_type": "code",
   "execution_count": 47,
   "id": "2de6d44b",
   "metadata": {},
   "outputs": [],
   "source": [
    "#sns.distplot(y_test-y_pred_knn)"
   ]
  },
  {
   "cell_type": "code",
   "execution_count": 48,
   "id": "562bcf80",
   "metadata": {},
   "outputs": [],
   "source": [
    "#open a file, where you want to store the data\n",
    "file=open(\"random_forest_model.pkl\",\"wb\")\n",
    "\n",
    "#dump information into that file\n",
    "pickle.dump(rf, file)"
   ]
  }
 ],
 "metadata": {
  "kernelspec": {
   "display_name": "Python 3",
   "language": "python",
   "name": "python3"
  },
  "language_info": {
   "codemirror_mode": {
    "name": "ipython",
    "version": 3
   },
   "file_extension": ".py",
   "mimetype": "text/x-python",
   "name": "python",
   "nbconvert_exporter": "python",
   "pygments_lexer": "ipython3",
   "version": "3.7.10"
  }
 },
 "nbformat": 4,
 "nbformat_minor": 5
}
